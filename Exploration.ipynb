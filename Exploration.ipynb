{
 "cells": [
  {
   "cell_type": "code",
   "id": "initial_id",
   "metadata": {
    "collapsed": true,
    "ExecuteTime": {
     "end_time": "2025-05-13T10:03:35.783371Z",
     "start_time": "2025-05-13T10:03:35.230929Z"
    }
   },
   "source": [
    "import pandas as pd\n",
    "\n",
    "df = pd.read_csv(\"Twitter_Analysis.csv\")\n",
    "df.head()\n",
    "# First we decide to remove unnecessary cols, including index, \n",
    "# In this dataset there are 2 types of labels, majority target and binary decision, we decided to choose the majority target as the true label \n",
    "df.drop(['Unnamed: 0', 'BinaryNumTarget', 'statement', 'tweet', 'embeddings'], axis=1, inplace=True)\n",
    "df.head()\n",
    "df['majority_target'].value_counts()\n"
   ],
   "outputs": [
    {
     "data": {
      "text/plain": [
       "majority_target\n",
       "True     68985\n",
       "False    65213\n",
       "Name: count, dtype: int64"
      ]
     },
     "execution_count": 33,
     "metadata": {},
     "output_type": "execute_result"
    }
   ],
   "execution_count": 33
  },
  {
   "metadata": {
    "ExecuteTime": {
     "end_time": "2025-05-13T10:03:35.824959Z",
     "start_time": "2025-05-13T10:03:35.784236Z"
    }
   },
   "cell_type": "code",
   "source": [
    "from sklearn.preprocessing import MinMaxScaler\n",
    "\n",
    "df['majority_target'] = df['majority_target'].astype(int)\n",
    "\n",
    "cols_to_min_max = ['followers_count', 'friends_count', 'favourites_count', 'statuses_count', 'listed_count', 'mentions', 'replies', 'quotes', 'retweets', 'favourites_count', 'hashtags', 'created_at', 'URLs', 'unique_count', 'total_count', 'Word count', 'Max word length', 'Min word length', 'Avg word length', 'present_verbs', 'past_verbs', 'adjectives', 'adpositions', 'adverbs', 'adpositions', 'pronouns', 'TOs', 'determiners', 'conjunctions', 'dots', 'exclamation', 'questions', 'ampersand', 'capitals' , 'digits' , 'long_word_freq', 'short_word_freq']\n",
    "\n",
    "cols_to_min_max = list(set(cols_to_min_max))\n",
    "\n",
    "# Filter only existing columns to avoid KeyError\n",
    "cols_to_scale = [col for col in cols_to_min_max if col in df.columns]\n",
    "\n",
    "# Apply MinMaxScaler\n",
    "scaler = MinMaxScaler()\n",
    "df[cols_to_scale] = scaler.fit_transform(df[cols_to_scale])\n",
    "\n",
    "X = df.drop('majority_target', axis=1)\n",
    "y = df['majority_target']"
   ],
   "id": "e317be0a9e1aa2f1",
   "outputs": [],
   "execution_count": 34
  },
  {
   "metadata": {
    "ExecuteTime": {
     "end_time": "2025-05-13T10:03:35.828719Z",
     "start_time": "2025-05-13T10:03:35.825564Z"
    }
   },
   "cell_type": "code",
   "source": [
    "#Feature Engineering\n",
    "X['favourites_per_follower'] = X['favourites_count'] / (X['followers_count'] + 1)\n",
    "X['retweet_ratio'] = X['retweets'] / (X['statuses_count'] + 1)\n",
    "\n"
   ],
   "id": "a4fd96dac5fc25c8",
   "outputs": [],
   "execution_count": 35
  },
  {
   "metadata": {},
   "cell_type": "code",
   "outputs": [],
   "execution_count": null,
   "source": "",
   "id": "fab4a3fa31082ed0"
  },
  {
   "metadata": {
    "ExecuteTime": {
     "end_time": "2025-05-13T10:34:42.669570Z",
     "start_time": "2025-05-13T10:22:42.694705Z"
    }
   },
   "cell_type": "code",
   "source": [
    "\n",
    "from sklearn.model_selection import train_test_split\n",
    "from sklearn.ensemble import RandomForestClassifier\n",
    "from sklearn.model_selection import GridSearchCV\n",
    "\n",
    "X_train, X_test, y_train, y_test = train_test_split(X, y, test_size=0.2, random_state=42)\n",
    "\n",
    "\n",
    "# Define parameter grid\n",
    "param_grid = {\n",
    "    'n_estimators': [100, 200],\n",
    "    'max_depth': [None, 10, 20],\n",
    "    'min_samples_split': [2, 5],\n",
    "    'min_samples_leaf': [1, 2],\n",
    "    'max_features': ['sqrt', 'log2']\n",
    "}\n",
    "\n",
    "# Initialize base model\n",
    "rf = RandomForestClassifier(random_state=42)\n",
    "\n",
    "# Initialize GridSearchCV\n",
    "grid_search = GridSearchCV(estimator=rf,\n",
    "                           param_grid=param_grid,\n",
    "                           cv=5,\n",
    "                           scoring='accuracy',\n",
    "                           n_jobs=-1,\n",
    "                           verbose=1)\n",
    "\n",
    "# Fit GridSearch to training data\n",
    "grid_search.fit(X_train, y_train)\n",
    "\n",
    "# Display best parameters\n",
    "print(\"Best parameters found:\", grid_search.best_params_)\n",
    "\n",
    "# Evaluate best model on test set\n",
    "best_rf = grid_search.best_estimator_"
   ],
   "id": "d8bdbdf7a48a8642",
   "outputs": [
    {
     "name": "stdout",
     "output_type": "stream",
     "text": [
      "Fitting 5 folds for each of 48 candidates, totalling 240 fits\n",
      "Best parameters found: {'max_depth': None, 'max_features': 'sqrt', 'min_samples_leaf': 1, 'min_samples_split': 2, 'n_estimators': 200}\n",
      "Test Accuracy: 0.6781296572280179\n",
      "Classification Report:\n",
      "              precision    recall  f1-score   support\n",
      "\n",
      "           0       0.67      0.68      0.67     13059\n",
      "           1       0.69      0.68      0.68     13781\n",
      "\n",
      "    accuracy                           0.68     26840\n",
      "   macro avg       0.68      0.68      0.68     26840\n",
      "weighted avg       0.68      0.68      0.68     26840\n",
      "\n"
     ]
    }
   ],
   "execution_count": 38
  },
  {
   "metadata": {
    "ExecuteTime": {
     "end_time": "2025-05-13T11:16:23.369885Z",
     "start_time": "2025-05-13T11:15:35.887723Z"
    }
   },
   "cell_type": "code",
   "source": [
    "from sklearn.model_selection import train_test_split\n",
    "from sklearn.ensemble import RandomForestClassifier\n",
    "from sklearn.metrics import classification_report, accuracy_score\n",
    "\n",
    "# Split data\n",
    "X_train, X_test, y_train, y_test = train_test_split(X, y, test_size=0.2, random_state=42)\n",
    "\n",
    "# Train model with best parameters\n",
    "best_rf = RandomForestClassifier(\n",
    "    n_estimators=200,\n",
    "    max_depth=None,\n",
    "    min_samples_split=2,\n",
    "    min_samples_leaf=1,\n",
    "    max_features='sqrt',\n",
    "    random_state=42\n",
    ")\n",
    "\n",
    "best_rf.fit(X_train, y_train)\n",
    "\n",
    "# Predict and evaluate\n",
    "y_pred = best_rf.predict(X_test)\n"
   ],
   "id": "a93596a41dc6dfa5",
   "outputs": [
    {
     "name": "stdout",
     "output_type": "stream",
     "text": [
      "Test Accuracy: 0.6781296572280179\n",
      "Classification Report:\n",
      "              precision    recall  f1-score   support\n",
      "\n",
      "           0       0.67      0.68      0.67     13059\n",
      "           1       0.69      0.68      0.68     13781\n",
      "\n",
      "    accuracy                           0.68     26840\n",
      "   macro avg       0.68      0.68      0.68     26840\n",
      "weighted avg       0.68      0.68      0.68     26840\n",
      "\n"
     ]
    }
   ],
   "execution_count": 40
  },
  {
   "metadata": {
    "ExecuteTime": {
     "end_time": "2025-05-13T11:52:47.203922Z",
     "start_time": "2025-05-13T11:52:46.045158Z"
    }
   },
   "cell_type": "code",
   "source": [
    "from sklearn.metrics import confusion_matrix, ConfusionMatrixDisplay\n",
    "import matplotlib.pyplot as plt\n",
    "\n",
    "print(f\"Test Accuracy: {accuracy_score(y_test, y_pred)}\")\n",
    "print(f\"Classification Report:\\n{classification_report(y_test, y_pred)}\")\n",
    "\n",
    "# Generate the confusion matrix\n",
    "cm = confusion_matrix(y_test, best_rf.predict(X_test))\n",
    "\n",
    "# Display the confusion matrix with a different color map\n",
    "disp = ConfusionMatrixDisplay(confusion_matrix=cm, display_labels=[\"Class 0\", \"Class 1\"])\n",
    "\n",
    "# Change the color map (e.g., 'Blues', 'coolwarm', 'viridis', 'plasma', etc.)\n",
    "disp.plot(cmap='Blues')\n",
    "\n",
    "# Optionally, add a title and show the plot\n",
    "plt.title('Confusion Matrix')\n",
    "plt.show()"
   ],
   "id": "c014fc35c153bc79",
   "outputs": [
    {
     "data": {
      "text/plain": [
       "<Figure size 640x480 with 2 Axes>"
      ],
      "image/png": "[encoded data removed]"
     },
     "metadata": {},
     "output_type": "display_data"
    }
   ],
   "execution_count": 49
  },
  {
   "metadata": {},
   "cell_type": "code",
   "outputs": [],
   "execution_count": null,
   "source": "",
   "id": "72c05ec509433fb0"
  }
 ],
 "metadata": {
  "kernelspec": {
   "display_name": "Python 3",
   "language": "python",
   "name": "python3"
  },
  "language_info": {
   "codemirror_mode": {
    "name": "ipython",
    "version": 2
   },
   "file_extension": ".py",
   "mimetype": "text/x-python",
   "name": "python",
   "nbconvert_exporter": "python",
   "pygments_lexer": "ipython2",
   "version": "2.7.6"
  }
 },
 "nbformat": 4,
 "nbformat_minor": 5
}
