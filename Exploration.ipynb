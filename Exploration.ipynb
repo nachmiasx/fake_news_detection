{
 "cells": [
  {
   "cell_type": "code",
   "id": "initial_id",
   "metadata": {
    "collapsed": true,
    "ExecuteTime": {
     "end_time": "2025-05-13T09:34:40.374114Z",
     "start_time": "2025-05-13T09:34:39.791307Z"
    }
   },
   "source": [
    "import pandas as pd\n",
    "\n",
    "df = pd.read_csv(\"Twitter_Analysis.csv\")\n",
    "df.head()\n",
    "# First we decide to remove unnecessary cols, including index, \n",
    "# In this dataset there are 2 types of labels, majority target and binary decision, we decided to choose the majority target as the true label \n",
    "df.drop(['Unnamed: 0', 'BinaryNumTarget', 'statement', 'tweet', 'embeddings'], axis=1, inplace=True)\n",
    "df.head()\n",
    "df['majority_target'].value_counts()\n"
   ],
   "outputs": [
    {
     "data": {
      "text/plain": [
       "majority_target\n",
       "True     68985\n",
       "False    65213\n",
       "Name: count, dtype: int64"
      ]
     },
     "execution_count": 25,
     "metadata": {},
     "output_type": "execute_result"
    }
   ],
   "execution_count": 25
  },
  {
   "metadata": {
    "ExecuteTime": {
     "end_time": "2025-05-13T09:34:40.422671Z",
     "start_time": "2025-05-13T09:34:40.375110Z"
    }
   },
   "cell_type": "code",
   "source": [
    "from sklearn.preprocessing import MinMaxScaler\n",
    "\n",
    "df['majority_target'] = df['majority_target'].astype(int)\n",
    "\n",
    "cols_to_min_max = ['followers_count', 'friends_count', 'favourites_count', 'statuses_count', 'listed_count', 'mentions', 'replies', 'quotes', 'retweets', 'favourites_count', 'hashtags', 'created_at', 'URLs', 'unique_count', 'total_count', 'Word count', 'Max word length', 'Min word length', 'Avg word length', 'present_verbs', 'past_verbs', 'adjectives', 'adpositions', 'adverbs', 'adpositions', 'pronouns', 'TOs', 'determiners', 'conjunctions', 'dots', 'exclamation', 'questions', 'ampersand', 'capitals' , 'digits' , 'long_word_freq', 'short_word_freq']\n",
    "\n",
    "cols_to_min_max = list(set(cols_to_min_max))\n",
    "\n",
    "# Filter only existing columns to avoid KeyError\n",
    "cols_to_scale = [col for col in cols_to_min_max if col in df.columns]\n",
    "\n",
    "# Apply MinMaxScaler\n",
    "scaler = MinMaxScaler()\n",
    "df[cols_to_scale] = scaler.fit_transform(df[cols_to_scale])\n",
    "\n",
    "X = df.drop('majority_target', axis=1)\n",
    "y = df['majority_target']"
   ],
   "id": "e317be0a9e1aa2f1",
   "outputs": [],
   "execution_count": 26
  },
  {
   "metadata": {
    "ExecuteTime": {
     "end_time": "2025-05-13T09:36:34.826391Z",
     "start_time": "2025-05-13T09:36:34.816897Z"
    }
   },
   "cell_type": "code",
   "source": [
    "#Feature Engineering\n",
    "df['favourites_per_follower'] = df['favourites_count'] / (df['followers_count'] + 1)\n",
    "df['retweet_ratio'] = df['retweets'] / (df['statuses_count'] + 1)\n",
    "\n"
   ],
   "id": "a4fd96dac5fc25c8",
   "outputs": [],
   "execution_count": 28
  },
  {
   "metadata": {},
   "cell_type": "code",
   "source": "",
   "id": "d8bdbdf7a48a8642",
   "outputs": [],
   "execution_count": null
  }
 ],
 "metadata": {
  "kernelspec": {
   "display_name": "Python 3",
   "language": "python",
   "name": "python3"
  },
  "language_info": {
   "codemirror_mode": {
    "name": "ipython",
    "version": 2
   },
   "file_extension": ".py",
   "mimetype": "text/x-python",
   "name": "python",
   "nbconvert_exporter": "python",
   "pygments_lexer": "ipython2",
   "version": "2.7.6"
  }
 },
 "nbformat": 4,
 "nbformat_minor": 5
}
